{
  "nbformat": 4,
  "nbformat_minor": 0,
  "metadata": {
    "colab": {
      "name": "Untitled1.ipynb",
      "provenance": [],
      "collapsed_sections": []
    },
    "kernelspec": {
      "name": "python3",
      "display_name": "Python 3"
    },
    "language_info": {
      "name": "python"
    }
  },
  "cells": [
    {
      "cell_type": "code",
      "execution_count": 7,
      "metadata": {
        "id": "ubkvxqmm3x71"
      },
      "outputs": [],
      "source": [
        "import pandas as pd\n",
        "from sklearn.preprocessing import MinMaxScaler\n",
        "import numpy as np\n",
        "from sklearn import utils\n",
        "import joblib\n",
        "import matplotlib.pyplot as plt "
      ]
    },
    {
      "cell_type": "code",
      "source": [
        "# 업비트 데이터 수집하기 1일봉으로 365개 1년 데이터 수집\n",
        "from google.colab import files\n",
        "df=pd.read_excel('df.xlsx')"
      ],
      "metadata": {
        "id": "O9Tc5J2pB_eL"
      },
      "execution_count": 30,
      "outputs": []
    },
    {
      "cell_type": "code",
      "source": [
        "#test & train 분할하기\n",
        "from sklearn.preprocessing import MinMaxScaler\n",
        "scaler = MinMaxScaler()\n",
        "# 스케일을 적용할 column을 정의합니다.\n",
        "scale_cols = ['open', 'high', 'low', 'close', 'volume']\n",
        "# 스케일 후 columns\n",
        "scaled = scaler.fit_transform(df[scale_cols])\n",
        "scaled"
      ],
      "metadata": {
        "colab": {
          "base_uri": "https://localhost:8080/"
        },
        "id": "a-Ed8jL9ME7c",
        "outputId": "5b070fba-397b-46ae-efbd-bacded29ad68"
      },
      "execution_count": 32,
      "outputs": [
        {
          "output_type": "execute_result",
          "data": {
            "text/plain": [
              "array([[0.        , 0.        , 0.        , 0.        , 0.11862466],\n",
              "       [0.01127525, 0.04064659, 0.01508845, 0.0415615 , 0.15316289],\n",
              "       [0.0523689 , 0.08170813, 0.04888881, 0.04047457, 0.36544834],\n",
              "       ...,\n",
              "       [0.61057578, 0.60439481, 0.62126505, 0.60114957, 0.07294777],\n",
              "       [0.60576695, 0.6251962 , 0.61225286, 0.63314972, 0.08739229],\n",
              "       [0.63729758, 0.63997186, 0.65183217, 0.64068459, 0.        ]])"
            ]
          },
          "metadata": {},
          "execution_count": 32
        }
      ]
    },
    {
      "cell_type": "code",
      "source": [
        "df = pd.DataFrame(scaled, columns=scale_cols)"
      ],
      "metadata": {
        "id": "FBh36g_FMgsd"
      },
      "execution_count": 33,
      "outputs": []
    },
    {
      "cell_type": "code",
      "source": [
        "from sklearn.model_selection import train_test_split\n",
        "x_train, x_test, y_train, y_test = train_test_split(df.drop('close', 1), df['close'], test_size=0.2, random_state=0, shuffle=False)"
      ],
      "metadata": {
        "id": "zodkbsPDMl-S"
      },
      "execution_count": 36,
      "outputs": []
    },
    {
      "cell_type": "code",
      "source": [
        "x_train.shape, y_train.shape"
      ],
      "metadata": {
        "colab": {
          "base_uri": "https://localhost:8080/"
        },
        "id": "VBuU4hpPM28p",
        "outputId": "251dfdac-1952-4082-8c8d-52f0f782696c"
      },
      "execution_count": 37,
      "outputs": [
        {
          "output_type": "execute_result",
          "data": {
            "text/plain": [
              "((292, 4), (292,))"
            ]
          },
          "metadata": {},
          "execution_count": 37
        }
      ]
    },
    {
      "cell_type": "code",
      "source": [
        "x_test.shape, y_test.shape"
      ],
      "metadata": {
        "colab": {
          "base_uri": "https://localhost:8080/"
        },
        "id": "SZp4qunmM4-x",
        "outputId": "b360225d-9f98-4df0-df51-239e1fe69588"
      },
      "execution_count": 38,
      "outputs": [
        {
          "output_type": "execute_result",
          "data": {
            "text/plain": [
              "((73, 4), (73,))"
            ]
          },
          "metadata": {},
          "execution_count": 38
        }
      ]
    },
    {
      "cell_type": "code",
      "source": [
        "x_train"
      ],
      "metadata": {
        "colab": {
          "base_uri": "https://localhost:8080/",
          "height": 424
        },
        "id": "q__wfvVoGnFy",
        "outputId": "94c006aa-372f-4603-a021-058a853434b9"
      },
      "execution_count": 39,
      "outputs": [
        {
          "output_type": "execute_result",
          "data": {
            "text/html": [
              "\n",
              "  <div id=\"df-e10bff5e-a7e6-4afb-93ea-bb174d5c18d4\">\n",
              "    <div class=\"colab-df-container\">\n",
              "      <div>\n",
              "<style scoped>\n",
              "    .dataframe tbody tr th:only-of-type {\n",
              "        vertical-align: middle;\n",
              "    }\n",
              "\n",
              "    .dataframe tbody tr th {\n",
              "        vertical-align: top;\n",
              "    }\n",
              "\n",
              "    .dataframe thead th {\n",
              "        text-align: right;\n",
              "    }\n",
              "</style>\n",
              "<table border=\"1\" class=\"dataframe\">\n",
              "  <thead>\n",
              "    <tr style=\"text-align: right;\">\n",
              "      <th></th>\n",
              "      <th>open</th>\n",
              "      <th>high</th>\n",
              "      <th>low</th>\n",
              "      <th>volume</th>\n",
              "    </tr>\n",
              "  </thead>\n",
              "  <tbody>\n",
              "    <tr>\n",
              "      <th>0</th>\n",
              "      <td>0.000000</td>\n",
              "      <td>0.000000</td>\n",
              "      <td>0.000000</td>\n",
              "      <td>0.118625</td>\n",
              "    </tr>\n",
              "    <tr>\n",
              "      <th>1</th>\n",
              "      <td>0.011275</td>\n",
              "      <td>0.040647</td>\n",
              "      <td>0.015088</td>\n",
              "      <td>0.153163</td>\n",
              "    </tr>\n",
              "    <tr>\n",
              "      <th>2</th>\n",
              "      <td>0.052369</td>\n",
              "      <td>0.081708</td>\n",
              "      <td>0.048889</td>\n",
              "      <td>0.365448</td>\n",
              "    </tr>\n",
              "    <tr>\n",
              "      <th>3</th>\n",
              "      <td>0.051804</td>\n",
              "      <td>0.059824</td>\n",
              "      <td>0.055671</td>\n",
              "      <td>0.122669</td>\n",
              "    </tr>\n",
              "    <tr>\n",
              "      <th>4</th>\n",
              "      <td>0.067688</td>\n",
              "      <td>0.058616</td>\n",
              "      <td>0.053088</td>\n",
              "      <td>0.104593</td>\n",
              "    </tr>\n",
              "    <tr>\n",
              "      <th>...</th>\n",
              "      <td>...</td>\n",
              "      <td>...</td>\n",
              "      <td>...</td>\n",
              "      <td>...</td>\n",
              "    </tr>\n",
              "    <tr>\n",
              "      <th>287</th>\n",
              "      <td>0.710359</td>\n",
              "      <td>0.738404</td>\n",
              "      <td>0.724320</td>\n",
              "      <td>0.127434</td>\n",
              "    </tr>\n",
              "    <tr>\n",
              "      <th>288</th>\n",
              "      <td>0.718556</td>\n",
              "      <td>0.729943</td>\n",
              "      <td>0.733759</td>\n",
              "      <td>0.057796</td>\n",
              "    </tr>\n",
              "    <tr>\n",
              "      <th>289</th>\n",
              "      <td>0.738702</td>\n",
              "      <td>0.753252</td>\n",
              "      <td>0.746600</td>\n",
              "      <td>0.068513</td>\n",
              "    </tr>\n",
              "    <tr>\n",
              "      <th>290</th>\n",
              "      <td>0.752254</td>\n",
              "      <td>0.799744</td>\n",
              "      <td>0.768842</td>\n",
              "      <td>0.148131</td>\n",
              "    </tr>\n",
              "    <tr>\n",
              "      <th>291</th>\n",
              "      <td>0.809687</td>\n",
              "      <td>0.795558</td>\n",
              "      <td>0.769046</td>\n",
              "      <td>0.139352</td>\n",
              "    </tr>\n",
              "  </tbody>\n",
              "</table>\n",
              "<p>292 rows × 4 columns</p>\n",
              "</div>\n",
              "      <button class=\"colab-df-convert\" onclick=\"convertToInteractive('df-e10bff5e-a7e6-4afb-93ea-bb174d5c18d4')\"\n",
              "              title=\"Convert this dataframe to an interactive table.\"\n",
              "              style=\"display:none;\">\n",
              "        \n",
              "  <svg xmlns=\"http://www.w3.org/2000/svg\" height=\"24px\"viewBox=\"0 0 24 24\"\n",
              "       width=\"24px\">\n",
              "    <path d=\"M0 0h24v24H0V0z\" fill=\"none\"/>\n",
              "    <path d=\"M18.56 5.44l.94 2.06.94-2.06 2.06-.94-2.06-.94-.94-2.06-.94 2.06-2.06.94zm-11 1L8.5 8.5l.94-2.06 2.06-.94-2.06-.94L8.5 2.5l-.94 2.06-2.06.94zm10 10l.94 2.06.94-2.06 2.06-.94-2.06-.94-.94-2.06-.94 2.06-2.06.94z\"/><path d=\"M17.41 7.96l-1.37-1.37c-.4-.4-.92-.59-1.43-.59-.52 0-1.04.2-1.43.59L10.3 9.45l-7.72 7.72c-.78.78-.78 2.05 0 2.83L4 21.41c.39.39.9.59 1.41.59.51 0 1.02-.2 1.41-.59l7.78-7.78 2.81-2.81c.8-.78.8-2.07 0-2.86zM5.41 20L4 18.59l7.72-7.72 1.47 1.35L5.41 20z\"/>\n",
              "  </svg>\n",
              "      </button>\n",
              "      \n",
              "  <style>\n",
              "    .colab-df-container {\n",
              "      display:flex;\n",
              "      flex-wrap:wrap;\n",
              "      gap: 12px;\n",
              "    }\n",
              "\n",
              "    .colab-df-convert {\n",
              "      background-color: #E8F0FE;\n",
              "      border: none;\n",
              "      border-radius: 50%;\n",
              "      cursor: pointer;\n",
              "      display: none;\n",
              "      fill: #1967D2;\n",
              "      height: 32px;\n",
              "      padding: 0 0 0 0;\n",
              "      width: 32px;\n",
              "    }\n",
              "\n",
              "    .colab-df-convert:hover {\n",
              "      background-color: #E2EBFA;\n",
              "      box-shadow: 0px 1px 2px rgba(60, 64, 67, 0.3), 0px 1px 3px 1px rgba(60, 64, 67, 0.15);\n",
              "      fill: #174EA6;\n",
              "    }\n",
              "\n",
              "    [theme=dark] .colab-df-convert {\n",
              "      background-color: #3B4455;\n",
              "      fill: #D2E3FC;\n",
              "    }\n",
              "\n",
              "    [theme=dark] .colab-df-convert:hover {\n",
              "      background-color: #434B5C;\n",
              "      box-shadow: 0px 1px 3px 1px rgba(0, 0, 0, 0.15);\n",
              "      filter: drop-shadow(0px 1px 2px rgba(0, 0, 0, 0.3));\n",
              "      fill: #FFFFFF;\n",
              "    }\n",
              "  </style>\n",
              "\n",
              "      <script>\n",
              "        const buttonEl =\n",
              "          document.querySelector('#df-e10bff5e-a7e6-4afb-93ea-bb174d5c18d4 button.colab-df-convert');\n",
              "        buttonEl.style.display =\n",
              "          google.colab.kernel.accessAllowed ? 'block' : 'none';\n",
              "\n",
              "        async function convertToInteractive(key) {\n",
              "          const element = document.querySelector('#df-e10bff5e-a7e6-4afb-93ea-bb174d5c18d4');\n",
              "          const dataTable =\n",
              "            await google.colab.kernel.invokeFunction('convertToInteractive',\n",
              "                                                     [key], {});\n",
              "          if (!dataTable) return;\n",
              "\n",
              "          const docLinkHtml = 'Like what you see? Visit the ' +\n",
              "            '<a target=\"_blank\" href=https://colab.research.google.com/notebooks/data_table.ipynb>data table notebook</a>'\n",
              "            + ' to learn more about interactive tables.';\n",
              "          element.innerHTML = '';\n",
              "          dataTable['output_type'] = 'display_data';\n",
              "          await google.colab.output.renderOutput(dataTable, element);\n",
              "          const docLink = document.createElement('div');\n",
              "          docLink.innerHTML = docLinkHtml;\n",
              "          element.appendChild(docLink);\n",
              "        }\n",
              "      </script>\n",
              "    </div>\n",
              "  </div>\n",
              "  "
            ],
            "text/plain": [
              "         open      high       low    volume\n",
              "0    0.000000  0.000000  0.000000  0.118625\n",
              "1    0.011275  0.040647  0.015088  0.153163\n",
              "2    0.052369  0.081708  0.048889  0.365448\n",
              "3    0.051804  0.059824  0.055671  0.122669\n",
              "4    0.067688  0.058616  0.053088  0.104593\n",
              "..        ...       ...       ...       ...\n",
              "287  0.710359  0.738404  0.724320  0.127434\n",
              "288  0.718556  0.729943  0.733759  0.057796\n",
              "289  0.738702  0.753252  0.746600  0.068513\n",
              "290  0.752254  0.799744  0.768842  0.148131\n",
              "291  0.809687  0.795558  0.769046  0.139352\n",
              "\n",
              "[292 rows x 4 columns]"
            ]
          },
          "metadata": {},
          "execution_count": 39
        }
      ]
    },
    {
      "cell_type": "code",
      "source": [
        "# TensroFlow Dataset을 활용한 시퀀스 데이터셋 구성\n",
        "import tensorflow as tf"
      ],
      "metadata": {
        "id": "FelzFiZ1NGWL"
      },
      "execution_count": 40,
      "outputs": []
    },
    {
      "cell_type": "code",
      "source": [
        "def windowed_dataset(series, window_size, batch_size, shuffle):\n",
        "    series = tf.expand_dims(series, axis=-1)\n",
        "    ds = tf.data.Dataset.from_tensor_slices(series)\n",
        "    ds = ds.window(window_size + 1, shift=1, drop_remainder=True)\n",
        "    ds = ds.flat_map(lambda w: w.batch(window_size + 1))\n",
        "    if shuffle:\n",
        "        ds = ds.shuffle(1000)\n",
        "    ds = ds.map(lambda w: (w[:-1], w[-1]))\n",
        "    return ds.batch(batch_size).prefetch(1)"
      ],
      "metadata": {
        "id": "f7Q30h2sNPUZ"
      },
      "execution_count": 41,
      "outputs": []
    },
    {
      "cell_type": "code",
      "source": [
        "WINDOW_SIZE=20\n",
        "BATCH_SIZE=32"
      ],
      "metadata": {
        "id": "r7AOTx6xNR2K"
      },
      "execution_count": 42,
      "outputs": []
    },
    {
      "cell_type": "code",
      "source": [
        "# trian_data는 학습용 데이터셋, test_data는 검증용 데이터셋 입니다.\n",
        "train_data = windowed_dataset(y_train, WINDOW_SIZE, BATCH_SIZE, True)\n",
        "test_data = windowed_dataset(y_test, WINDOW_SIZE, BATCH_SIZE, False)"
      ],
      "metadata": {
        "id": "2uKlQoxHNT9r"
      },
      "execution_count": 43,
      "outputs": []
    },
    {
      "cell_type": "code",
      "source": [
        "# X: (batch_size, window_size, feature)\n",
        "# Y: (batch_size, feature)\n",
        "for data in train_data.take(1):\n",
        "    print(f'데이터셋(X) 구성(batch_size, window_size, feature갯수): {data[0].shape}')\n",
        "    print(f'데이터셋(Y) 구성(batch_size, window_size, feature갯수): {data[1].shape}')"
      ],
      "metadata": {
        "colab": {
          "base_uri": "https://localhost:8080/"
        },
        "id": "VM0U4O2UNWmh",
        "outputId": "e20f185b-3247-49bd-a746-7543082cd248"
      },
      "execution_count": 44,
      "outputs": [
        {
          "output_type": "stream",
          "name": "stdout",
          "text": [
            "데이터셋(X) 구성(batch_size, window_size, feature갯수): (32, 20, 1)\n",
            "데이터셋(Y) 구성(batch_size, window_size, feature갯수): (32, 1)\n"
          ]
        }
      ]
    },
    {
      "cell_type": "code",
      "source": [
        "# 모델!!!!\n",
        "from tensorflow.keras.models import Sequential\n",
        "from tensorflow.keras.layers import Dense, LSTM, Conv1D, Lambda\n",
        "from tensorflow.keras.losses import Huber\n",
        "from tensorflow.keras.optimizers import Adam\n",
        "from tensorflow.keras.callbacks import EarlyStopping, ModelCheckpoint\n",
        "import os\n",
        "\n",
        "model = Sequential([\n",
        "    # 1차원 feature map 생성\n",
        "    Conv1D(filters=32, kernel_size=5,\n",
        "           padding=\"causal\",\n",
        "           activation=\"relu\",\n",
        "           input_shape=[WINDOW_SIZE, 1]),\n",
        "    # LSTM\n",
        "    LSTM(16, activation='tanh'),\n",
        "    Dense(16, activation=\"relu\"),\n",
        "    Dense(1),\n",
        "])"
      ],
      "metadata": {
        "id": "Mo4W1QtTNZ6y"
      },
      "execution_count": 54,
      "outputs": []
    },
    {
      "cell_type": "code",
      "source": [
        "loss = Huber()\n",
        "optimizer = Adam(0.0005)\n",
        "model.compile(loss=Huber(), optimizer=optimizer, metrics=['mse'])"
      ],
      "metadata": {
        "id": "tmLCplT9NhOH"
      },
      "execution_count": 55,
      "outputs": []
    },
    {
      "cell_type": "code",
      "source": [
        "# earlystopping은 10번 epoch통안 val_loss 개선이 없다면 학습 중단\n",
        "earlystopping = EarlyStopping(monitor='val_loss', patience=10)\n",
        "# val_loss 기준 체크포인터도 생성\n",
        "filename = os.path.join('tmp', 'ckeckpointer.ckpt')\n",
        "checkpoint = ModelCheckpoint(filename, \n",
        "                             save_weights_only=True, \n",
        "                             save_best_only=True, \n",
        "                             monitor='val_loss', \n",
        "                             verbose=1)"
      ],
      "metadata": {
        "id": "9ITyFOsgNlgI"
      },
      "execution_count": 56,
      "outputs": []
    },
    {
      "cell_type": "code",
      "source": [
        "history = model.fit(train_data, \n",
        "                    validation_data=(test_data), \n",
        "                    epochs=50, \n",
        "                    callbacks=[checkpoint, earlystopping])"
      ],
      "metadata": {
        "colab": {
          "base_uri": "https://localhost:8080/"
        },
        "id": "M_M2UFYrN5na",
        "outputId": "a8774d85-0511-44a0-d4fd-6889a166e825"
      },
      "execution_count": 57,
      "outputs": [
        {
          "output_type": "stream",
          "name": "stdout",
          "text": [
            "Epoch 1/50\n",
            "      6/Unknown - 3s 11ms/step - loss: 0.1090 - mse: 0.2179\n",
            "Epoch 00001: val_loss improved from inf to 0.14296, saving model to tmp/ckeckpointer.ckpt\n",
            "9/9 [==============================] - 3s 93ms/step - loss: 0.1012 - mse: 0.2025 - val_loss: 0.1430 - val_mse: 0.2859\n",
            "Epoch 2/50\n",
            "6/9 [===================>..........] - ETA: 0s - loss: 0.0535 - mse: 0.1069\n",
            "Epoch 00002: val_loss improved from 0.14296 to 0.05325, saving model to tmp/ckeckpointer.ckpt\n",
            "9/9 [==============================] - 0s 20ms/step - loss: 0.0472 - mse: 0.0944 - val_loss: 0.0533 - val_mse: 0.1065\n",
            "Epoch 3/50\n",
            "5/9 [===============>..............] - ETA: 0s - loss: 0.0192 - mse: 0.0384\n",
            "Epoch 00003: val_loss improved from 0.05325 to 0.00939, saving model to tmp/ckeckpointer.ckpt\n",
            "9/9 [==============================] - 0s 19ms/step - loss: 0.0147 - mse: 0.0294 - val_loss: 0.0094 - val_mse: 0.0188\n",
            "Epoch 4/50\n",
            "5/9 [===============>..............] - ETA: 0s - loss: 0.0076 - mse: 0.0152\n",
            "Epoch 00004: val_loss improved from 0.00939 to 0.00415, saving model to tmp/ckeckpointer.ckpt\n",
            "9/9 [==============================] - 0s 19ms/step - loss: 0.0078 - mse: 0.0157 - val_loss: 0.0042 - val_mse: 0.0083\n",
            "Epoch 5/50\n",
            "6/9 [===================>..........] - ETA: 0s - loss: 0.0090 - mse: 0.0181\n",
            "Epoch 00005: val_loss did not improve from 0.00415\n",
            "9/9 [==============================] - 0s 17ms/step - loss: 0.0083 - mse: 0.0166 - val_loss: 0.0047 - val_mse: 0.0094\n",
            "Epoch 6/50\n",
            "6/9 [===================>..........] - ETA: 0s - loss: 0.0066 - mse: 0.0131\n",
            "Epoch 00006: val_loss did not improve from 0.00415\n",
            "9/9 [==============================] - 0s 16ms/step - loss: 0.0064 - mse: 0.0127 - val_loss: 0.0072 - val_mse: 0.0144\n",
            "Epoch 7/50\n",
            "6/9 [===================>..........] - ETA: 0s - loss: 0.0058 - mse: 0.0117\n",
            "Epoch 00007: val_loss did not improve from 0.00415\n",
            "9/9 [==============================] - 0s 17ms/step - loss: 0.0059 - mse: 0.0118 - val_loss: 0.0066 - val_mse: 0.0132\n",
            "Epoch 8/50\n",
            "5/9 [===============>..............] - ETA: 0s - loss: 0.0057 - mse: 0.0113\n",
            "Epoch 00008: val_loss did not improve from 0.00415\n",
            "9/9 [==============================] - 0s 17ms/step - loss: 0.0055 - mse: 0.0110 - val_loss: 0.0048 - val_mse: 0.0095\n",
            "Epoch 9/50\n",
            "6/9 [===================>..........] - ETA: 0s - loss: 0.0053 - mse: 0.0106\n",
            "Epoch 00009: val_loss improved from 0.00415 to 0.00390, saving model to tmp/ckeckpointer.ckpt\n",
            "9/9 [==============================] - 0s 18ms/step - loss: 0.0051 - mse: 0.0103 - val_loss: 0.0039 - val_mse: 0.0078\n",
            "Epoch 10/50\n",
            "6/9 [===================>..........] - ETA: 0s - loss: 0.0051 - mse: 0.0103\n",
            "Epoch 00010: val_loss improved from 0.00390 to 0.00377, saving model to tmp/ckeckpointer.ckpt\n",
            "9/9 [==============================] - 0s 18ms/step - loss: 0.0049 - mse: 0.0097 - val_loss: 0.0038 - val_mse: 0.0075\n",
            "Epoch 11/50\n",
            "6/9 [===================>..........] - ETA: 0s - loss: 0.0048 - mse: 0.0096\n",
            "Epoch 00011: val_loss did not improve from 0.00377\n",
            "9/9 [==============================] - 0s 16ms/step - loss: 0.0046 - mse: 0.0092 - val_loss: 0.0038 - val_mse: 0.0076\n",
            "Epoch 12/50\n",
            "6/9 [===================>..........] - ETA: 0s - loss: 0.0047 - mse: 0.0094\n",
            "Epoch 00012: val_loss improved from 0.00377 to 0.00317, saving model to tmp/ckeckpointer.ckpt\n",
            "9/9 [==============================] - 0s 18ms/step - loss: 0.0044 - mse: 0.0088 - val_loss: 0.0032 - val_mse: 0.0063\n",
            "Epoch 13/50\n",
            "6/9 [===================>..........] - ETA: 0s - loss: 0.0043 - mse: 0.0085\n",
            "Epoch 00013: val_loss improved from 0.00317 to 0.00277, saving model to tmp/ckeckpointer.ckpt\n",
            "9/9 [==============================] - 0s 19ms/step - loss: 0.0042 - mse: 0.0084 - val_loss: 0.0028 - val_mse: 0.0055\n",
            "Epoch 14/50\n",
            "6/9 [===================>..........] - ETA: 0s - loss: 0.0043 - mse: 0.0085\n",
            "Epoch 00014: val_loss improved from 0.00277 to 0.00267, saving model to tmp/ckeckpointer.ckpt\n",
            "9/9 [==============================] - 0s 24ms/step - loss: 0.0040 - mse: 0.0081 - val_loss: 0.0027 - val_mse: 0.0053\n",
            "Epoch 15/50\n",
            "5/9 [===============>..............] - ETA: 0s - loss: 0.0041 - mse: 0.0082\n",
            "Epoch 00015: val_loss improved from 0.00267 to 0.00252, saving model to tmp/ckeckpointer.ckpt\n",
            "9/9 [==============================] - 0s 19ms/step - loss: 0.0039 - mse: 0.0078 - val_loss: 0.0025 - val_mse: 0.0050\n",
            "Epoch 16/50\n",
            "6/9 [===================>..........] - ETA: 0s - loss: 0.0037 - mse: 0.0073\n",
            "Epoch 00016: val_loss improved from 0.00252 to 0.00235, saving model to tmp/ckeckpointer.ckpt\n",
            "9/9 [==============================] - 0s 18ms/step - loss: 0.0038 - mse: 0.0075 - val_loss: 0.0024 - val_mse: 0.0047\n",
            "Epoch 17/50\n",
            "6/9 [===================>..........] - ETA: 0s - loss: 0.0037 - mse: 0.0073\n",
            "Epoch 00017: val_loss improved from 0.00235 to 0.00231, saving model to tmp/ckeckpointer.ckpt\n",
            "9/9 [==============================] - 0s 19ms/step - loss: 0.0037 - mse: 0.0073 - val_loss: 0.0023 - val_mse: 0.0046\n",
            "Epoch 18/50\n",
            "6/9 [===================>..........] - ETA: 0s - loss: 0.0034 - mse: 0.0068\n",
            "Epoch 00018: val_loss improved from 0.00231 to 0.00218, saving model to tmp/ckeckpointer.ckpt\n",
            "9/9 [==============================] - 0s 20ms/step - loss: 0.0035 - mse: 0.0071 - val_loss: 0.0022 - val_mse: 0.0044\n",
            "Epoch 19/50\n",
            "6/9 [===================>..........] - ETA: 0s - loss: 0.0034 - mse: 0.0067\n",
            "Epoch 00019: val_loss improved from 0.00218 to 0.00211, saving model to tmp/ckeckpointer.ckpt\n",
            "9/9 [==============================] - 0s 21ms/step - loss: 0.0035 - mse: 0.0070 - val_loss: 0.0021 - val_mse: 0.0042\n",
            "Epoch 20/50\n",
            "6/9 [===================>..........] - ETA: 0s - loss: 0.0034 - mse: 0.0069\n",
            "Epoch 00020: val_loss improved from 0.00211 to 0.00209, saving model to tmp/ckeckpointer.ckpt\n",
            "9/9 [==============================] - 0s 19ms/step - loss: 0.0034 - mse: 0.0067 - val_loss: 0.0021 - val_mse: 0.0042\n",
            "Epoch 21/50\n",
            "6/9 [===================>..........] - ETA: 0s - loss: 0.0033 - mse: 0.0065\n",
            "Epoch 00021: val_loss improved from 0.00209 to 0.00200, saving model to tmp/ckeckpointer.ckpt\n",
            "9/9 [==============================] - 0s 19ms/step - loss: 0.0033 - mse: 0.0066 - val_loss: 0.0020 - val_mse: 0.0040\n",
            "Epoch 22/50\n",
            "6/9 [===================>..........] - ETA: 0s - loss: 0.0030 - mse: 0.0060\n",
            "Epoch 00022: val_loss improved from 0.00200 to 0.00196, saving model to tmp/ckeckpointer.ckpt\n",
            "9/9 [==============================] - 0s 18ms/step - loss: 0.0033 - mse: 0.0066 - val_loss: 0.0020 - val_mse: 0.0039\n",
            "Epoch 23/50\n",
            "6/9 [===================>..........] - ETA: 0s - loss: 0.0032 - mse: 0.0064\n",
            "Epoch 00023: val_loss improved from 0.00196 to 0.00195, saving model to tmp/ckeckpointer.ckpt\n",
            "9/9 [==============================] - 0s 22ms/step - loss: 0.0032 - mse: 0.0064 - val_loss: 0.0020 - val_mse: 0.0039\n",
            "Epoch 24/50\n",
            "6/9 [===================>..........] - ETA: 0s - loss: 0.0031 - mse: 0.0062\n",
            "Epoch 00024: val_loss improved from 0.00195 to 0.00189, saving model to tmp/ckeckpointer.ckpt\n",
            "9/9 [==============================] - 0s 18ms/step - loss: 0.0031 - mse: 0.0061 - val_loss: 0.0019 - val_mse: 0.0038\n",
            "Epoch 25/50\n",
            "6/9 [===================>..........] - ETA: 0s - loss: 0.0031 - mse: 0.0061\n",
            "Epoch 00025: val_loss improved from 0.00189 to 0.00182, saving model to tmp/ckeckpointer.ckpt\n",
            "9/9 [==============================] - 0s 18ms/step - loss: 0.0031 - mse: 0.0061 - val_loss: 0.0018 - val_mse: 0.0036\n",
            "Epoch 26/50\n",
            "5/9 [===============>..............] - ETA: 0s - loss: 0.0031 - mse: 0.0061\n",
            "Epoch 00026: val_loss improved from 0.00182 to 0.00166, saving model to tmp/ckeckpointer.ckpt\n",
            "9/9 [==============================] - 0s 21ms/step - loss: 0.0028 - mse: 0.0056 - val_loss: 0.0017 - val_mse: 0.0033\n",
            "Epoch 27/50\n",
            "5/9 [===============>..............] - ETA: 0s - loss: 0.0029 - mse: 0.0059\n",
            "Epoch 00027: val_loss improved from 0.00166 to 0.00163, saving model to tmp/ckeckpointer.ckpt\n",
            "9/9 [==============================] - 0s 20ms/step - loss: 0.0027 - mse: 0.0055 - val_loss: 0.0016 - val_mse: 0.0033\n",
            "Epoch 28/50\n",
            "6/9 [===================>..........] - ETA: 0s - loss: 0.0026 - mse: 0.0052\n",
            "Epoch 00028: val_loss improved from 0.00163 to 0.00159, saving model to tmp/ckeckpointer.ckpt\n",
            "9/9 [==============================] - 0s 19ms/step - loss: 0.0026 - mse: 0.0053 - val_loss: 0.0016 - val_mse: 0.0032\n",
            "Epoch 29/50\n",
            "6/9 [===================>..........] - ETA: 0s - loss: 0.0026 - mse: 0.0053\n",
            "Epoch 00029: val_loss improved from 0.00159 to 0.00155, saving model to tmp/ckeckpointer.ckpt\n",
            "9/9 [==============================] - 0s 20ms/step - loss: 0.0026 - mse: 0.0051 - val_loss: 0.0016 - val_mse: 0.0031\n",
            "Epoch 30/50\n",
            "6/9 [===================>..........] - ETA: 0s - loss: 0.0028 - mse: 0.0057\n",
            "Epoch 00030: val_loss improved from 0.00155 to 0.00151, saving model to tmp/ckeckpointer.ckpt\n",
            "9/9 [==============================] - 0s 20ms/step - loss: 0.0025 - mse: 0.0050 - val_loss: 0.0015 - val_mse: 0.0030\n",
            "Epoch 31/50\n",
            "6/9 [===================>..........] - ETA: 0s - loss: 0.0026 - mse: 0.0051\n",
            "Epoch 00031: val_loss improved from 0.00151 to 0.00148, saving model to tmp/ckeckpointer.ckpt\n",
            "9/9 [==============================] - 0s 19ms/step - loss: 0.0024 - mse: 0.0049 - val_loss: 0.0015 - val_mse: 0.0030\n",
            "Epoch 32/50\n",
            "6/9 [===================>..........] - ETA: 0s - loss: 0.0024 - mse: 0.0048\n",
            "Epoch 00032: val_loss improved from 0.00148 to 0.00147, saving model to tmp/ckeckpointer.ckpt\n",
            "9/9 [==============================] - 0s 18ms/step - loss: 0.0024 - mse: 0.0047 - val_loss: 0.0015 - val_mse: 0.0029\n",
            "Epoch 33/50\n",
            "6/9 [===================>..........] - ETA: 0s - loss: 0.0024 - mse: 0.0047\n",
            "Epoch 00033: val_loss did not improve from 0.00147\n",
            "9/9 [==============================] - 0s 17ms/step - loss: 0.0023 - mse: 0.0045 - val_loss: 0.0015 - val_mse: 0.0030\n",
            "Epoch 34/50\n",
            "6/9 [===================>..........] - ETA: 0s - loss: 0.0022 - mse: 0.0044\n",
            "Epoch 00034: val_loss improved from 0.00147 to 0.00139, saving model to tmp/ckeckpointer.ckpt\n",
            "9/9 [==============================] - 0s 19ms/step - loss: 0.0023 - mse: 0.0046 - val_loss: 0.0014 - val_mse: 0.0028\n",
            "Epoch 35/50\n",
            "9/9 [==============================] - ETA: 0s - loss: 0.0022 - mse: 0.0044\n",
            "Epoch 00035: val_loss improved from 0.00139 to 0.00136, saving model to tmp/ckeckpointer.ckpt\n",
            "9/9 [==============================] - 0s 22ms/step - loss: 0.0022 - mse: 0.0044 - val_loss: 0.0014 - val_mse: 0.0027\n",
            "Epoch 36/50\n",
            "6/9 [===================>..........] - ETA: 0s - loss: 0.0021 - mse: 0.0043\n",
            "Epoch 00036: val_loss improved from 0.00136 to 0.00135, saving model to tmp/ckeckpointer.ckpt\n",
            "9/9 [==============================] - 0s 20ms/step - loss: 0.0022 - mse: 0.0044 - val_loss: 0.0014 - val_mse: 0.0027\n",
            "Epoch 37/50\n",
            "6/9 [===================>..........] - ETA: 0s - loss: 0.0021 - mse: 0.0042\n",
            "Epoch 00037: val_loss improved from 0.00135 to 0.00130, saving model to tmp/ckeckpointer.ckpt\n",
            "9/9 [==============================] - 0s 18ms/step - loss: 0.0021 - mse: 0.0042 - val_loss: 0.0013 - val_mse: 0.0026\n",
            "Epoch 38/50\n",
            "5/9 [===============>..............] - ETA: 0s - loss: 0.0020 - mse: 0.0041\n",
            "Epoch 00038: val_loss did not improve from 0.00130\n",
            "9/9 [==============================] - 0s 18ms/step - loss: 0.0021 - mse: 0.0042 - val_loss: 0.0013 - val_mse: 0.0027\n",
            "Epoch 39/50\n",
            "6/9 [===================>..........] - ETA: 0s - loss: 0.0019 - mse: 0.0037\n",
            "Epoch 00039: val_loss improved from 0.00130 to 0.00127, saving model to tmp/ckeckpointer.ckpt\n",
            "9/9 [==============================] - 0s 21ms/step - loss: 0.0020 - mse: 0.0040 - val_loss: 0.0013 - val_mse: 0.0025\n",
            "Epoch 40/50\n",
            "6/9 [===================>..........] - ETA: 0s - loss: 0.0019 - mse: 0.0038\n",
            "Epoch 00040: val_loss did not improve from 0.00127\n",
            "9/9 [==============================] - 0s 17ms/step - loss: 0.0020 - mse: 0.0040 - val_loss: 0.0013 - val_mse: 0.0026\n",
            "Epoch 41/50\n",
            "6/9 [===================>..........] - ETA: 0s - loss: 0.0020 - mse: 0.0039\n",
            "Epoch 00041: val_loss did not improve from 0.00127\n",
            "9/9 [==============================] - 0s 18ms/step - loss: 0.0020 - mse: 0.0040 - val_loss: 0.0014 - val_mse: 0.0027\n",
            "Epoch 42/50\n",
            "6/9 [===================>..........] - ETA: 0s - loss: 0.0019 - mse: 0.0038\n",
            "Epoch 00042: val_loss improved from 0.00127 to 0.00124, saving model to tmp/ckeckpointer.ckpt\n",
            "9/9 [==============================] - 0s 19ms/step - loss: 0.0019 - mse: 0.0038 - val_loss: 0.0012 - val_mse: 0.0025\n",
            "Epoch 43/50\n",
            "6/9 [===================>..........] - ETA: 0s - loss: 0.0021 - mse: 0.0041\n",
            "Epoch 00043: val_loss did not improve from 0.00124\n",
            "9/9 [==============================] - 0s 18ms/step - loss: 0.0019 - mse: 0.0038 - val_loss: 0.0013 - val_mse: 0.0027\n",
            "Epoch 44/50\n",
            "6/9 [===================>..........] - ETA: 0s - loss: 0.0018 - mse: 0.0036\n",
            "Epoch 00044: val_loss improved from 0.00124 to 0.00121, saving model to tmp/ckeckpointer.ckpt\n",
            "9/9 [==============================] - 0s 17ms/step - loss: 0.0018 - mse: 0.0036 - val_loss: 0.0012 - val_mse: 0.0024\n",
            "Epoch 45/50\n",
            "6/9 [===================>..........] - ETA: 0s - loss: 0.0019 - mse: 0.0039\n",
            "Epoch 00045: val_loss improved from 0.00121 to 0.00119, saving model to tmp/ckeckpointer.ckpt\n",
            "9/9 [==============================] - 0s 18ms/step - loss: 0.0018 - mse: 0.0036 - val_loss: 0.0012 - val_mse: 0.0024\n",
            "Epoch 46/50\n",
            "6/9 [===================>..........] - ETA: 0s - loss: 0.0018 - mse: 0.0036\n",
            "Epoch 00046: val_loss did not improve from 0.00119\n",
            "9/9 [==============================] - 0s 18ms/step - loss: 0.0017 - mse: 0.0035 - val_loss: 0.0013 - val_mse: 0.0026\n",
            "Epoch 47/50\n",
            "6/9 [===================>..........] - ETA: 0s - loss: 0.0018 - mse: 0.0036\n",
            "Epoch 00047: val_loss improved from 0.00119 to 0.00117, saving model to tmp/ckeckpointer.ckpt\n",
            "9/9 [==============================] - 0s 21ms/step - loss: 0.0017 - mse: 0.0034 - val_loss: 0.0012 - val_mse: 0.0023\n",
            "Epoch 48/50\n",
            "6/9 [===================>..........] - ETA: 0s - loss: 0.0018 - mse: 0.0036\n",
            "Epoch 00048: val_loss did not improve from 0.00117\n",
            "9/9 [==============================] - 0s 17ms/step - loss: 0.0017 - mse: 0.0034 - val_loss: 0.0012 - val_mse: 0.0024\n",
            "Epoch 49/50\n",
            "6/9 [===================>..........] - ETA: 0s - loss: 0.0014 - mse: 0.0028\n",
            "Epoch 00049: val_loss did not improve from 0.00117\n",
            "9/9 [==============================] - 0s 18ms/step - loss: 0.0017 - mse: 0.0034 - val_loss: 0.0014 - val_mse: 0.0027\n",
            "Epoch 50/50\n",
            "6/9 [===================>..........] - ETA: 0s - loss: 0.0019 - mse: 0.0037\n",
            "Epoch 00050: val_loss improved from 0.00117 to 0.00110, saving model to tmp/ckeckpointer.ckpt\n",
            "9/9 [==============================] - 0s 19ms/step - loss: 0.0018 - mse: 0.0035 - val_loss: 0.0011 - val_mse: 0.0022\n"
          ]
        }
      ]
    },
    {
      "cell_type": "code",
      "source": [
        "# 저장한 데이터 로드\n",
        "model.load_weights(filename)"
      ],
      "metadata": {
        "colab": {
          "base_uri": "https://localhost:8080/"
        },
        "id": "ir_pm8uROXNz",
        "outputId": "ad083e13-43c0-4840-f90d-7fe37e38f7f0"
      },
      "execution_count": 58,
      "outputs": [
        {
          "output_type": "execute_result",
          "data": {
            "text/plain": [
              "<tensorflow.python.training.tracking.util.CheckpointLoadStatus at 0x7f32c15a38d0>"
            ]
          },
          "metadata": {},
          "execution_count": 58
        }
      ]
    },
    {
      "cell_type": "code",
      "source": [
        "#test 데이터로 예측 진행\n",
        "pred = model.predict(test_data)\n",
        "pred.shape"
      ],
      "metadata": {
        "colab": {
          "base_uri": "https://localhost:8080/"
        },
        "id": "rqOGB6vpOb6D",
        "outputId": "4ead6c42-4ba2-4992-e75c-5b75e28d7b02"
      },
      "execution_count": 60,
      "outputs": [
        {
          "output_type": "execute_result",
          "data": {
            "text/plain": [
              "(53, 1)"
            ]
          },
          "metadata": {},
          "execution_count": 60
        }
      ]
    },
    {
      "cell_type": "code",
      "source": [
        "# 자! 그럼 이제 예측한 데이터를 시각화해보장 >_<\n",
        "plt.figure(figsize=(12, 9))\n",
        "plt.plot(np.asarray(y_test)[20:], label='actual')\n",
        "plt.plot(pred, label='prediction')\n",
        "plt.legend()\n",
        "plt.show()"
      ],
      "metadata": {
        "colab": {
          "base_uri": "https://localhost:8080/",
          "height": 537
        },
        "id": "9_Ixg1-lOhoR",
        "outputId": "41d70b52-94ee-49f2-eca1-e8126914a49c"
      },
      "execution_count": 61,
      "outputs": [
        {
          "output_type": "display_data",
          "data": {
            "image/png": "[encoded data removed]",
            "text/plain": [
              "<Figure size 864x648 with 1 Axes>"
            ]
          },
          "metadata": {
            "needs_background": "light"
          }
        }
      ]
    }
  ]
}